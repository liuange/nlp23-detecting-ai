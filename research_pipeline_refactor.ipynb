{
 "cells": [
  {
   "attachments": {},
   "cell_type": "markdown",
   "id": "daf71bc4-ca5f-4703-ad0a-51963b35a229",
   "metadata": {},
   "source": [
    "# Midterm Report"
   ]
  },
  {
   "attachments": {},
   "cell_type": "markdown",
   "id": "f462bfd5-d54b-41bc-95a0-3aaa278db2d1",
   "metadata": {
    "tags": []
   },
   "source": [
    "## Import chatGPT detector model"
   ]
  },
  {
   "cell_type": "code",
   "execution_count": 6,
   "id": "d700e6c3-ca1f-499f-a32f-59986b103c65",
   "metadata": {},
   "outputs": [],
   "source": [
    "import torch\n",
    "import io \n",
    "import jsonlines\n",
    "import pandas as pd\n",
    "import numpy as np \n",
    "from sklearn.metrics import accuracy_score\n",
    "from transformers import AutoModelForSequenceClassification, AutoTokenizer"
   ]
  },
  {
   "cell_type": "code",
   "execution_count": 7,
   "id": "899f03ba-32d0-4bf3-99d9-e13a2436d9b6",
   "metadata": {},
   "outputs": [],
   "source": [
    "model = torch.load('detector-base.pt') "
   ]
  },
  {
   "attachments": {},
   "cell_type": "markdown",
   "id": "0caf405b-e5ab-4798-b3ed-abcd3284466e",
   "metadata": {
    "tags": []
   },
   "source": [
    "## Import cleaned HC3 dataset"
   ]
  },
  {
   "cell_type": "code",
   "execution_count": 42,
   "id": "0326aace-bed1-48ea-8901-a2dde3de893d",
   "metadata": {},
   "outputs": [],
   "source": [
    "df = pd.read_parquet('clean_df.parq')\n",
    "df = df.sample(frac=1, axis=1, random_state=0).sample(frac=1, random_state=0).reset_index(drop=True)"
   ]
  },
  {
   "attachments": {},
   "cell_type": "markdown",
   "id": "e75e0ca8-a7fb-4031-899c-9592b9bfe465",
   "metadata": {},
   "source": [
    "# Establish detector pipeline "
   ]
  },
  {
   "cell_type": "code",
   "execution_count": 9,
   "id": "bb5d42dc-e193-4a00-af60-b96025cf4e50",
   "metadata": {},
   "outputs": [
    {
     "data": {
      "text/plain": [
       "'Basically there are many categories of \" Best Seller \" . Replace \" Best Seller \" by something like \" Oscars \" and every \" best seller \" book is basically an \" oscar - winning \" book . May not have won the \" Best film \" , but even if you won the best director or best script , you \\'re still an \" oscar - winning \" film . Same thing for best sellers . Also , IIRC the rankings change every week or something like that . Some you might not be best seller one week , but you may be the next week . I guess even if you do n\\'t stay there for long , you still achieved the status . Hence , # 1 best seller .'"
      ]
     },
     "execution_count": 9,
     "metadata": {},
     "output_type": "execute_result"
    }
   ],
   "source": [
    "test_case = df['answer'][0]\n",
    "test_case"
   ]
  },
  {
   "attachments": {},
   "cell_type": "markdown",
   "id": "015f987e",
   "metadata": {},
   "source": [
    "## Run on a single test case"
   ]
  },
  {
   "cell_type": "code",
   "execution_count": 10,
   "id": "f81db749-855d-453e-8b40-fb1c0ae90ff3",
   "metadata": {},
   "outputs": [
    {
     "name": "stdout",
     "output_type": "stream",
     "text": [
      "Using device: cpu\n"
     ]
    },
    {
     "name": "stderr",
     "output_type": "stream",
     "text": [
      "Some weights of the model checkpoint at roberta-base-openai-detector were not used when initializing RobertaForSequenceClassification: ['roberta.pooler.dense.weight', 'roberta.pooler.dense.bias']\n",
      "- This IS expected if you are initializing RobertaForSequenceClassification from the checkpoint of a model trained on another task or with another architecture (e.g. initializing a BertForSequenceClassification model from a BertForPreTraining model).\n",
      "- This IS NOT expected if you are initializing RobertaForSequenceClassification from the checkpoint of a model that you expect to be exactly identical (initializing a BertForSequenceClassification model from a BertForSequenceClassification model).\n"
     ]
    },
    {
     "name": "stdout",
     "output_type": "stream",
     "text": [
      "Real 0.9998311996459961\n"
     ]
    }
   ],
   "source": [
    "import numpy as nn\n",
    "\n",
    "device = torch.device(\"cuda\" if torch.cuda.is_available() else \"cpu\")\n",
    "print(\"Using device:\", device)\n",
    "\n",
    "tokenizer = AutoTokenizer.from_pretrained(\"roberta-base-openai-detector\")\n",
    "if device.type == \"cpu\":\n",
    "    model = AutoModelForSequenceClassification.from_pretrained(\n",
    "        \"roberta-base-openai-detector\"\n",
    "    )\n",
    "else:\n",
    "    model = AutoModelForSequenceClassification.from_pretrained(\n",
    "        \"roberta-base-openai-detector\", device_map=\"auto\"\n",
    "    )\n",
    "\n",
    "input_text = test_case\n",
    "\n",
    "input_ids = tokenizer(input_text, return_tensors=\"pt\").input_ids.to(device)\n",
    "\n",
    "with torch.no_grad():\n",
    "    logits = model(input_ids).logits\n",
    "\n",
    "predicted_class_id = logits.argmax().item()\n",
    "predicted_probs = torch.nn.functional.softmax(logits, dim=1).data.tolist()[0]\n",
    "print(\n",
    "    model.config.id2label[predicted_class_id],\n",
    "    predicted_probs[nn.argmax(predicted_probs)],\n",
    ")"
   ]
  },
  {
   "attachments": {},
   "cell_type": "markdown",
   "id": "995dfebc-1b40-4f97-89c4-f22087151667",
   "metadata": {},
   "source": [
    "# Extract misclassified data"
   ]
  },
  {
   "cell_type": "code",
   "execution_count": 46,
   "id": "acf66142",
   "metadata": {},
   "outputs": [
    {
     "data": {
      "text/plain": [
       "(1000, 5)"
      ]
     },
     "execution_count": 46,
     "metadata": {},
     "output_type": "execute_result"
    }
   ],
   "source": [
    "subset_df = df.loc[0:999,:].copy()\n",
    "subset_df.shape"
   ]
  },
  {
   "cell_type": "code",
   "execution_count": 47,
   "id": "73d2e4bf",
   "metadata": {},
   "outputs": [
    {
     "name": "stdout",
     "output_type": "stream",
     "text": [
      "Using device: cpu\n"
     ]
    },
    {
     "name": "stderr",
     "output_type": "stream",
     "text": [
      "Some weights of the model checkpoint at roberta-base-openai-detector were not used when initializing RobertaForSequenceClassification: ['roberta.pooler.dense.weight', 'roberta.pooler.dense.bias']\n",
      "- This IS expected if you are initializing RobertaForSequenceClassification from the checkpoint of a model trained on another task or with another architecture (e.g. initializing a BertForSequenceClassification model from a BertForPreTraining model).\n",
      "- This IS NOT expected if you are initializing RobertaForSequenceClassification from the checkpoint of a model that you expect to be exactly identical (initializing a BertForSequenceClassification model from a BertForSequenceClassification model).\n"
     ]
    },
    {
     "name": "stdout",
     "output_type": "stream",
     "text": [
      "Predicting question 0 out of 1000 (0.0% complete)\n"
     ]
    },
    {
     "name": "stderr",
     "output_type": "stream",
     "text": [
      "Token indices sequence length is longer than the specified maximum sequence length for this model (826 > 512). Running this sequence through the model will result in indexing errors\n"
     ]
    },
    {
     "name": "stdout",
     "output_type": "stream",
     "text": [
      "Predicting question 50 out of 1000 (5.0% complete)\n",
      "Predicting question 100 out of 1000 (10.0% complete)\n",
      "Predicting question 150 out of 1000 (15.0% complete)\n",
      "Predicting question 200 out of 1000 (20.0% complete)\n",
      "Predicting question 250 out of 1000 (25.0% complete)\n",
      "Predicting question 300 out of 1000 (30.0% complete)\n",
      "Predicting question 350 out of 1000 (35.0% complete)\n",
      "Predicting question 400 out of 1000 (40.0% complete)\n",
      "Predicting question 450 out of 1000 (45.0% complete)\n",
      "Predicting question 500 out of 1000 (50.0% complete)\n",
      "Predicting question 550 out of 1000 (55.0% complete)\n",
      "Predicting question 600 out of 1000 (60.0% complete)\n",
      "Predicting question 650 out of 1000 (65.0% complete)\n",
      "Predicting question 700 out of 1000 (70.0% complete)\n",
      "Predicting question 750 out of 1000 (75.0% complete)\n",
      "Predicting question 800 out of 1000 (80.0% complete)\n",
      "Predicting question 850 out of 1000 (85.0% complete)\n",
      "Predicting question 900 out of 1000 (90.0% complete)\n",
      "Predicting question 950 out of 1000 (95.0% complete)\n"
     ]
    }
   ],
   "source": [
    "def get_prediction(df):\n",
    "    class_labels = []\n",
    "    class_probs = []\n",
    "    oversized_inputs = []\n",
    "    \n",
    "    device = torch.device(\"cuda\" if torch.cuda.is_available() else \"cpu\")\n",
    "    print(\"Using device:\", device)\n",
    "\n",
    "    tokenizer = AutoTokenizer.from_pretrained(\"roberta-base-openai-detector\")\n",
    "    if device.type == \"cpu\":\n",
    "        model = AutoModelForSequenceClassification.from_pretrained(\n",
    "            \"roberta-base-openai-detector\"\n",
    "        )\n",
    "    else:\n",
    "        model = AutoModelForSequenceClassification.from_pretrained(\n",
    "            \"roberta-base-openai-detector\", device_map=\"auto\"\n",
    "        )\n",
    "\n",
    "    counter = 0 \n",
    "    for response in df['answer']:\n",
    "        if counter%50 == 0:\n",
    "            print(f'Predicting question {counter} out of {len(df)} ({round(counter*100/len(df), 2)}% complete)')\n",
    "        counter += 1\n",
    "        input_text = response\n",
    "        input_ids = tokenizer(input_text, return_tensors=\"pt\").input_ids.to(device)\n",
    "\n",
    "        if input_ids.shape[1] > 512: # Error handling for max input size \n",
    "            input_ids.resize_(input_ids.shape[0], 512)\n",
    "            oversized_inputs.append(response)\n",
    "\n",
    "        with torch.no_grad():\n",
    "            logits = model(input_ids).logits\n",
    "\n",
    "        predicted_class_id = logits.argmax().item()\n",
    "        predicted_probs = torch.nn.functional.softmax(logits, dim=1).data.tolist()[0]\n",
    "        \n",
    "        # questions.append(row['question'])\n",
    "        # responses.append(real_response)\n",
    "        # actual_labels.append('Real')\n",
    "        class_labels.append(model.config.id2label[predicted_class_id])\n",
    "        class_probs.append(predicted_probs[nn.argmax(predicted_probs)])\n",
    "        \n",
    "        \n",
    "    # # for gpt_response in row['chatgpt_answers']:\n",
    "    # #     input_text = gpt_response\n",
    "    # #     input_ids = tokenizer(input_text, return_tensors=\"pt\").input_ids.to(device)\n",
    "        \n",
    "    # #     if input_ids.shape[1] > 512: # Error handling for max input size \n",
    "    # #         input_ids.resize_(input_ids.shape[0], 512)\n",
    "    # #         oversized_inputs.append(gpt_response)\n",
    "\n",
    "    # #     with torch.no_grad():\n",
    "    # #         logits = model(input_ids).logits\n",
    "\n",
    "    # #     predicted_class_id = logits.argmax().item()\n",
    "    # #     predicted_probs = torch.nn.functional.softmax(logits, dim=1).data.tolist()[0]\n",
    "        \n",
    "    # #     questions.append(row['question'])\n",
    "    # #     responses.append(real_response)\n",
    "    # #     actual_labels.append('Fake')\n",
    "    #     class_labels.append(model.config.id2label[predicted_class_id])\n",
    "    #     class_probs.append(predicted_probs[nn.argmax(predicted_probs)])\n",
    "\n",
    "    return class_labels, class_probs, oversized_inputs\n",
    "\n",
    "class_labels, class_probs, oversized_inputs = get_prediction(subset_df)"
   ]
  },
  {
   "cell_type": "code",
   "execution_count": 49,
   "id": "c1b607f2",
   "metadata": {},
   "outputs": [
    {
     "data": {
      "text/plain": [
       "(1000, 1000, 41)"
      ]
     },
     "execution_count": 49,
     "metadata": {},
     "output_type": "execute_result"
    }
   ],
   "source": [
    "len(class_labels), len(class_probs), len(oversized_inputs)"
   ]
  },
  {
   "cell_type": "code",
   "execution_count": 50,
   "id": "f9c60399",
   "metadata": {},
   "outputs": [],
   "source": [
    "subset_df[\"pred_label\"] = class_labels\n",
    "subset_df[\"pred_probability\"] = class_probs"
   ]
  },
  {
   "cell_type": "code",
   "execution_count": 57,
   "id": "eaba134d-1479-43d9-9036-ec3ede58911e",
   "metadata": {},
   "outputs": [
    {
     "name": "stdout",
     "output_type": "stream",
     "text": [
      "(44, 7)\n"
     ]
    },
    {
     "data": {
      "text/html": [
       "<div>\n",
       "<style scoped>\n",
       "    .dataframe tbody tr th:only-of-type {\n",
       "        vertical-align: middle;\n",
       "    }\n",
       "\n",
       "    .dataframe tbody tr th {\n",
       "        vertical-align: top;\n",
       "    }\n",
       "\n",
       "    .dataframe thead th {\n",
       "        text-align: right;\n",
       "    }\n",
       "</style>\n",
       "<table border=\"1\" class=\"dataframe\">\n",
       "  <thead>\n",
       "    <tr style=\"text-align: right;\">\n",
       "      <th></th>\n",
       "      <th></th>\n",
       "      <th>answer</th>\n",
       "      <th>q_id</th>\n",
       "      <th>question</th>\n",
       "      <th>source</th>\n",
       "      <th>pred_probability</th>\n",
       "    </tr>\n",
       "    <tr>\n",
       "      <th>true_label</th>\n",
       "      <th>pred_label</th>\n",
       "      <th></th>\n",
       "      <th></th>\n",
       "      <th></th>\n",
       "      <th></th>\n",
       "      <th></th>\n",
       "    </tr>\n",
       "  </thead>\n",
       "  <tbody>\n",
       "    <tr>\n",
       "      <th>Fake</th>\n",
       "      <th>Real</th>\n",
       "      <td>17</td>\n",
       "      <td>17</td>\n",
       "      <td>17</td>\n",
       "      <td>17</td>\n",
       "      <td>17</td>\n",
       "    </tr>\n",
       "    <tr>\n",
       "      <th>Real</th>\n",
       "      <th>Fake</th>\n",
       "      <td>27</td>\n",
       "      <td>27</td>\n",
       "      <td>27</td>\n",
       "      <td>27</td>\n",
       "      <td>27</td>\n",
       "    </tr>\n",
       "  </tbody>\n",
       "</table>\n",
       "</div>"
      ],
      "text/plain": [
       "                       answer  q_id  question  source  pred_probability\n",
       "true_label pred_label                                                  \n",
       "Fake       Real            17    17        17      17                17\n",
       "Real       Fake            27    27        27      27                27"
      ]
     },
     "execution_count": 57,
     "metadata": {},
     "output_type": "execute_result"
    }
   ],
   "source": [
    "misclassified_texts = subset_df[subset_df['true_label'] != subset_df['pred_label']]\n",
    "misclassified_texts = misclassified_texts.sort_values(by='pred_probability', ascending=True)\n",
    "print(misclassified_texts.shape)\n",
    "# misclassified texts data quality checks - should not have any real-real / fake-fake\n",
    "misclassified_texts.groupby(['true_label', 'pred_label']).count()"
   ]
  },
  {
   "cell_type": "code",
   "execution_count": 58,
   "id": "3d2ae766",
   "metadata": {},
   "outputs": [],
   "source": [
    "misclassified_texts.to_csv('misclassified_sample.csv')"
   ]
  },
  {
   "attachments": {},
   "cell_type": "markdown",
   "id": "2787d1ea-4d63-4de8-a534-5c2c840c1a91",
   "metadata": {},
   "source": [
    "# Explore misclassified"
   ]
  },
  {
   "cell_type": "code",
   "execution_count": 54,
   "id": "9b218028-b0c9-4a01-bae0-a57ae226a770",
   "metadata": {},
   "outputs": [
    {
     "data": {
      "text/html": [
       "<div>\n",
       "<style scoped>\n",
       "    .dataframe tbody tr th:only-of-type {\n",
       "        vertical-align: middle;\n",
       "    }\n",
       "\n",
       "    .dataframe tbody tr th {\n",
       "        vertical-align: top;\n",
       "    }\n",
       "\n",
       "    .dataframe thead th {\n",
       "        text-align: right;\n",
       "    }\n",
       "</style>\n",
       "<table border=\"1\" class=\"dataframe\">\n",
       "  <thead>\n",
       "    <tr style=\"text-align: right;\">\n",
       "      <th>Predicted</th>\n",
       "      <th>Fake</th>\n",
       "      <th>Real</th>\n",
       "    </tr>\n",
       "    <tr>\n",
       "      <th>Actual</th>\n",
       "      <th></th>\n",
       "      <th></th>\n",
       "    </tr>\n",
       "  </thead>\n",
       "  <tbody>\n",
       "    <tr>\n",
       "      <th>Fake</th>\n",
       "      <td>314</td>\n",
       "      <td>17</td>\n",
       "    </tr>\n",
       "    <tr>\n",
       "      <th>Real</th>\n",
       "      <td>27</td>\n",
       "      <td>642</td>\n",
       "    </tr>\n",
       "  </tbody>\n",
       "</table>\n",
       "</div>"
      ],
      "text/plain": [
       "Predicted  Fake  Real\n",
       "Actual               \n",
       "Fake        314    17\n",
       "Real         27   642"
      ]
     },
     "execution_count": 54,
     "metadata": {},
     "output_type": "execute_result"
    }
   ],
   "source": [
    "confusion_matrix = pd.crosstab(subset_df['true_label'], subset_df['pred_label'], rownames=['Actual'], colnames=['Predicted'])\n",
    "confusion_matrix"
   ]
  },
  {
   "cell_type": "code",
   "execution_count": 60,
   "id": "8926911e-9035-4e29-b856-6327f4c4c8fc",
   "metadata": {},
   "outputs": [
    {
     "data": {
      "text/plain": [
       "0.956"
      ]
     },
     "execution_count": 60,
     "metadata": {},
     "output_type": "execute_result"
    }
   ],
   "source": [
    "accuracy_score(subset_df['true_label'], subset_df['pred_label'])"
   ]
  },
  {
   "cell_type": "code",
   "execution_count": 63,
   "id": "9c027ad7-7f91-42f7-a1f5-d6706fdd0343",
   "metadata": {},
   "outputs": [
    {
     "data": {
      "image/png": "[encoded data removed]",
      "text/plain": [
       "<Figure size 750x750 with 1 Axes>"
      ]
     },
     "metadata": {},
     "output_type": "display_data"
    }
   ],
   "source": [
    "from sklearn.metrics import confusion_matrix\n",
    "import matplotlib.pyplot as plt\n",
    "\n",
    "conf_matrix = confusion_matrix(subset_df['true_label'], subset_df['pred_label'])\n",
    "\n",
    "fig, ax = plt.subplots(figsize=(7.5, 7.5))\n",
    "ax.matshow(conf_matrix, cmap=plt.cm.Blues, alpha=0.3)\n",
    "for i in range(conf_matrix.shape[0]):\n",
    "    for j in range(conf_matrix.shape[1]):\n",
    "        ax.text(x=j, y=i,s=conf_matrix[i, j], va='center', ha='center', size='xx-large')\n",
    "\n",
    "plt.xlabel('Predictions', fontsize=18)\n",
    "plt.ylabel('Actuals', fontsize=18)\n",
    "plt.title('Confusion Matrix', fontsize=18)\n",
    "plt.show()"
   ]
  },
  {
   "cell_type": "code",
   "execution_count": 65,
   "id": "bf5eb414-0bf5-4794-be78-539aca93f23f",
   "metadata": {},
   "outputs": [
    {
     "data": {
      "image/png": "[encoded data removed]",
      "text/plain": [
       "<Figure size 640x480 with 1 Axes>"
      ]
     },
     "metadata": {},
     "output_type": "display_data"
    }
   ],
   "source": [
    "pd.set_option('display.max_rows', 10)\n",
    "pd.set_option('display.max_colwidth', None)\n",
    "\n",
    "misclassified_texts['char_length'] = [len(i) for i in misclassified_texts['answer']]\n",
    "misclassified_texts['cum_char_length'] = misclassified_texts['char_length'].cumsum()\n",
    "\n",
    "#misclassified_texts = misclassified_texts.sort_values(by='pred_probability')\n",
    "\n",
    "plt.plot(misclassified_texts['pred_probability'][0:100], misclassified_texts['char_length'][0:100])\n",
    "plt.show()"
   ]
  },
  {
   "cell_type": "code",
   "execution_count": null,
   "id": "a6936aee-7e98-43d2-aff6-fc1bd69540fd",
   "metadata": {},
   "outputs": [
    {
     "data": {
      "text/plain": [
       "PearsonRResult(statistic=0.07143339516844117, pvalue=0.3802380166296405)"
      ]
     },
     "execution_count": 183,
     "metadata": {},
     "output_type": "execute_result"
    }
   ],
   "source": [
    "np.corrcoef(misclassified_texts['char_length'], misclassified_texts['pred_probability'])\n",
    "from scipy.stats import pearsonr\n",
    "\n",
    "pearsonr(misclassified_texts['char_length'], misclassified_texts['pred_probability'])"
   ]
  },
  {
   "cell_type": "code",
   "execution_count": null,
   "id": "e0cd9f9c-19e0-4a63-8da6-534792d28f0d",
   "metadata": {},
   "outputs": [],
   "source": [
    "fake_misclassified_texts = misclassified_texts[misclassified_texts['actual_label']=='Fake']\n",
    "real_misclassified_texts = misclassified_texts[misclassified_texts['actual_label']=='Real']"
   ]
  }
 ],
 "metadata": {
  "kernelspec": {
   "display_name": "Python 3",
   "language": "python",
   "name": "python3"
  },
  "language_info": {
   "codemirror_mode": {
    "name": "ipython",
    "version": 3
   },
   "file_extension": ".py",
   "mimetype": "text/x-python",
   "name": "python",
   "nbconvert_exporter": "python",
   "pygments_lexer": "ipython3",
   "version": "3.10.11"
  }
 },
 "nbformat": 4,
 "nbformat_minor": 5
}
